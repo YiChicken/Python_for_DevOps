{
  "nbformat": 4,
  "nbformat_minor": 0,
  "metadata": {
    "colab": {
      "provenance": [],
      "authorship_tag": "ABX9TyPTxEMzT9a7DohQCWBktJJj",
      "include_colab_link": true
    },
    "kernelspec": {
      "name": "python3",
      "display_name": "Python 3"
    },
    "language_info": {
      "name": "python"
    }
  },
  "cells": [
    {
      "cell_type": "markdown",
      "metadata": {
        "id": "view-in-github",
        "colab_type": "text"
      },
      "source": [
        "<a href=\"https://colab.research.google.com/github/YiChicken/Python_for_DevOps/blob/main/getting_started_python.ipynb\" target=\"_parent\"><img src=\"https://colab.research.google.com/assets/colab-badge.svg\" alt=\"Open In Colab\"/></a>"
      ]
    },
    {
      "cell_type": "markdown",
      "source": [
        "## introduction to Python\n"
      ],
      "metadata": {
        "id": "kKXwtun45Nx7"
      }
    },
    {
      "cell_type": "code",
      "execution_count": null,
      "metadata": {
        "id": "Ml_V3jT84ggV"
      },
      "outputs": [],
      "source": [
        "1."
      ]
    },
    {
      "cell_type": "markdown",
      "source": [
        "### Statements in Python\n"
      ],
      "metadata": {
        "id": "FJIBb9tX5ZFw"
      }
    },
    {
      "cell_type": "markdown",
      "source": [
        "### DataStructures"
      ],
      "metadata": {
        "id": "B6XuedAl6vor"
      }
    },
    {
      "cell_type": "code",
      "source": [
        "fruit = [\"apple\", \"pear\", \"strawberry\"]"
      ],
      "metadata": {
        "id": "DGQIjf7v7Hkr"
      },
      "execution_count": 1,
      "outputs": []
    },
    {
      "cell_type": "code",
      "source": [
        "type(fruit)"
      ],
      "metadata": {
        "colab": {
          "base_uri": "https://localhost:8080/"
        },
        "id": "tVrY94j47QcS",
        "outputId": "9c80eaa0-952d-4254-d568-5c4f6dfa23f8"
      },
      "execution_count": 2,
      "outputs": [
        {
          "output_type": "execute_result",
          "data": {
            "text/plain": [
              "list"
            ]
          },
          "metadata": {},
          "execution_count": 2
        }
      ]
    },
    {
      "cell_type": "code",
      "source": [
        "fruit[0]"
      ],
      "metadata": {
        "colab": {
          "base_uri": "https://localhost:8080/",
          "height": 35
        },
        "id": "1tibYx2g7VDG",
        "outputId": "d0a17157-c9fe-4bbd-88d8-f36f9bb1b527"
      },
      "execution_count": 3,
      "outputs": [
        {
          "output_type": "execute_result",
          "data": {
            "text/plain": [
              "'apple'"
            ],
            "application/vnd.google.colaboratory.intrinsic+json": {
              "type": "string"
            }
          },
          "metadata": {},
          "execution_count": 3
        }
      ]
    },
    {
      "cell_type": "code",
      "source": [
        "meal = {\"breakfast\": \"coffee\", \"lunch\":\"salad\", \"dinner\":\"rice\"}"
      ],
      "metadata": {
        "id": "7FCcqrBn7w02"
      },
      "execution_count": 4,
      "outputs": []
    },
    {
      "cell_type": "code",
      "source": [
        "meal.keys()"
      ],
      "metadata": {
        "colab": {
          "base_uri": "https://localhost:8080/"
        },
        "id": "d4LSGTRh7-89",
        "outputId": "ff708306-e6ec-4360-b01f-d3d1b0455114"
      },
      "execution_count": 5,
      "outputs": [
        {
          "output_type": "execute_result",
          "data": {
            "text/plain": [
              "dict_keys(['breakfast', 'lunch', 'dinner'])"
            ]
          },
          "metadata": {},
          "execution_count": 5
        }
      ]
    },
    {
      "cell_type": "code",
      "source": [
        "for meal_name, meal_item in meal.items():\n",
        "  print(f\"This meal {meal_name} is when i like to eat {meal_item}\")"
      ],
      "metadata": {
        "colab": {
          "base_uri": "https://localhost:8080/"
        },
        "id": "MnJymXsw8F6p",
        "outputId": "4fa72196-53f3-4e8c-a10a-9ebcbd095b9e"
      },
      "execution_count": 7,
      "outputs": [
        {
          "output_type": "stream",
          "name": "stdout",
          "text": [
            "This meal breakfast is when i like to eat coffee\n",
            "This meal lunch is when i like to eat salad\n",
            "This meal dinner is when i like to eat rice\n"
          ]
        }
      ]
    }
  ]
}